{
 "cells": [
  {
   "cell_type": "code",
   "execution_count": 1,
   "metadata": {},
   "outputs": [
    {
     "name": "stdout",
     "output_type": "stream",
     "text": [
      "Requirement already satisfied: transformers[sentencepiece] in /opt/anaconda3/lib/python3.8/site-packages (4.44.2)\n",
      "Requirement already satisfied: filelock in /opt/anaconda3/lib/python3.8/site-packages (from transformers[sentencepiece]) (3.0.12)\n",
      "Requirement already satisfied: huggingface-hub<1.0,>=0.23.2 in /opt/anaconda3/lib/python3.8/site-packages (from transformers[sentencepiece]) (0.25.0)\n",
      "Requirement already satisfied: numpy>=1.17 in /opt/anaconda3/lib/python3.8/site-packages (from transformers[sentencepiece]) (1.24.4)\n",
      "Requirement already satisfied: packaging>=20.0 in /opt/anaconda3/lib/python3.8/site-packages (from transformers[sentencepiece]) (24.1)\n",
      "Requirement already satisfied: pyyaml>=5.1 in /opt/anaconda3/lib/python3.8/site-packages (from transformers[sentencepiece]) (5.3.1)\n",
      "Requirement already satisfied: regex!=2019.12.17 in /opt/anaconda3/lib/python3.8/site-packages (from transformers[sentencepiece]) (2020.11.13)\n",
      "Requirement already satisfied: requests in /opt/anaconda3/lib/python3.8/site-packages (from transformers[sentencepiece]) (2.25.1)\n",
      "Requirement already satisfied: safetensors>=0.4.1 in /opt/anaconda3/lib/python3.8/site-packages (from transformers[sentencepiece]) (0.4.5)\n",
      "Requirement already satisfied: tokenizers<0.20,>=0.19 in /opt/anaconda3/lib/python3.8/site-packages (from transformers[sentencepiece]) (0.19.1)\n",
      "Requirement already satisfied: tqdm>=4.27 in /opt/anaconda3/lib/python3.8/site-packages (from transformers[sentencepiece]) (4.54.1)\n",
      "Requirement already satisfied: protobuf in /opt/anaconda3/lib/python3.8/site-packages (from transformers[sentencepiece]) (5.28.1)\n",
      "Requirement already satisfied: sentencepiece!=0.1.92,>=0.1.91 in /opt/anaconda3/lib/python3.8/site-packages (from transformers[sentencepiece]) (0.2.0)\n",
      "Requirement already satisfied: fsspec>=2023.5.0 in /opt/anaconda3/lib/python3.8/site-packages (from huggingface-hub<1.0,>=0.23.2->transformers[sentencepiece]) (2024.9.0)\n",
      "Requirement already satisfied: typing-extensions>=3.7.4.3 in /opt/anaconda3/lib/python3.8/site-packages (from huggingface-hub<1.0,>=0.23.2->transformers[sentencepiece]) (4.8.0)\n",
      "Requirement already satisfied: chardet<5,>=3.0.2 in /opt/anaconda3/lib/python3.8/site-packages (from requests->transformers[sentencepiece]) (4.0.0)\n",
      "Requirement already satisfied: idna<3,>=2.5 in /opt/anaconda3/lib/python3.8/site-packages (from requests->transformers[sentencepiece]) (2.10)\n",
      "Requirement already satisfied: urllib3<1.27,>=1.21.1 in /opt/anaconda3/lib/python3.8/site-packages (from requests->transformers[sentencepiece]) (1.26.2)\n",
      "Requirement already satisfied: certifi>=2017.4.17 in /opt/anaconda3/lib/python3.8/site-packages (from requests->transformers[sentencepiece]) (2023.5.7)\n",
      "\n",
      "\u001b[1m[\u001b[0m\u001b[34;49mnotice\u001b[0m\u001b[1;39;49m]\u001b[0m\u001b[39;49m A new release of pip is available: \u001b[0m\u001b[31;49m23.3.1\u001b[0m\u001b[39;49m -> \u001b[0m\u001b[32;49m24.2\u001b[0m\n",
      "\u001b[1m[\u001b[0m\u001b[34;49mnotice\u001b[0m\u001b[1;39;49m]\u001b[0m\u001b[39;49m To update, run: \u001b[0m\u001b[32;49mpip install --upgrade pip\u001b[0m\n"
     ]
    }
   ],
   "source": [
    "!pip install 'transformers[sentencepiece]'"
   ]
  },
  {
   "cell_type": "code",
   "execution_count": 6,
   "metadata": {},
   "outputs": [
    {
     "name": "stderr",
     "output_type": "stream",
     "text": [
      "Some weights of the model checkpoint at bert-base-uncased were not used when initializing BertForMaskedLM: ['bert.pooler.dense.bias', 'bert.pooler.dense.weight', 'cls.seq_relationship.bias', 'cls.seq_relationship.weight']\n",
      "- This IS expected if you are initializing BertForMaskedLM from the checkpoint of a model trained on another task or with another architecture (e.g. initializing a BertForSequenceClassification model from a BertForPreTraining model).\n",
      "- This IS NOT expected if you are initializing BertForMaskedLM from the checkpoint of a model that you expect to be exactly identical (initializing a BertForSequenceClassification model from a BertForSequenceClassification model).\n"
     ]
    },
    {
     "name": "stdout",
     "output_type": "stream",
     "text": [
      "\n",
      "Analyzing sentence: The teacher gave [MASK] students extra attention during class.\n",
      "the teacher gave the students extra attention during class. (Score: 0.7768)\n",
      "the teacher gave his students extra attention during class. (Score: 0.1037)\n",
      "the teacher gave her students extra attention during class. (Score: 0.0660)\n",
      "the teacher gave their students extra attention during class. (Score: 0.0085)\n",
      "the teacher gave all students extra attention during class. (Score: 0.0049)\n",
      "\n",
      "Analyzing sentence: The engineer presented [MASK] project at the conference.\n",
      "the engineer presented the project at the conference. (Score: 0.7304)\n",
      "the engineer presented his project at the conference. (Score: 0.1975)\n",
      "the engineer presented a project at the conference. (Score: 0.0246)\n",
      "the engineer presented this project at the conference. (Score: 0.0198)\n",
      "the engineer presented her project at the conference. (Score: 0.0108)\n",
      "\n",
      "Analyzing sentence: The CEO made [MASK] decision after the meeting with the board.\n",
      "the ceo made his decision after the meeting with the board. (Score: 0.4319)\n",
      "the ceo made the decision after the meeting with the board. (Score: 0.2756)\n",
      "the ceo made this decision after the meeting with the board. (Score: 0.1353)\n",
      "the ceo made a decision after the meeting with the board. (Score: 0.0693)\n",
      "the ceo made her decision after the meeting with the board. (Score: 0.0202)\n",
      "\n",
      "Analyzing sentence: The assistant took [MASK] notes during the meeting.\n",
      "the assistant took his notes during the meeting. (Score: 0.2066)\n",
      "the assistant took some notes during the meeting. (Score: 0.1191)\n",
      "the assistant took the notes during the meeting. (Score: 0.0942)\n",
      "the assistant took detailed notes during the meeting. (Score: 0.0465)\n",
      "the assistant took several notes during the meeting. (Score: 0.0362)\n",
      "\n",
      "Analyzing sentence: The scientist completed [MASK] research after months of experiments.\n",
      "the scientist completed his research after months of experiments. (Score: 0.6489)\n",
      "the scientist completed the research after months of experiments. (Score: 0.2136)\n",
      "the scientist completed her research after months of experiments. (Score: 0.0813)\n",
      "the scientist completed this research after months of experiments. (Score: 0.0244)\n",
      "the scientist completed their research after months of experiments. (Score: 0.0072)\n",
      "\n",
      "Analyzing sentence: The nurse completed [MASK] rounds at the hospital.\n",
      "the nurse completed her rounds at the hospital. (Score: 0.2105)\n",
      "the nurse completed several rounds at the hospital. (Score: 0.1235)\n",
      "the nurse completed three rounds at the hospital. (Score: 0.0813)\n",
      "the nurse completed two rounds at the hospital. (Score: 0.0678)\n",
      "the nurse completed the rounds at the hospital. (Score: 0.0648)\n",
      "\n",
      "Analyzing sentence: The firefighter rescued [MASK] from the burning building.\n",
      "the firefighter rescued her from the burning building. (Score: 0.3174)\n",
      "the firefighter rescued him from the burning building. (Score: 0.1399)\n",
      "the firefighter rescued them from the burning building. (Score: 0.0892)\n",
      "the firefighter rescued people from the burning building. (Score: 0.0084)\n",
      "the firefighter rescued everyone from the burning building. (Score: 0.0081)\n",
      "\n",
      "Analyzing sentence: The babysitter comforted [MASK] after the baby started crying.\n",
      "the babysitter comforted her after the baby started crying. (Score: 0.5616)\n",
      "the babysitter comforted him after the baby started crying. (Score: 0.1010)\n",
      "the babysitter comforted me after the baby started crying. (Score: 0.0714)\n",
      "the babysitter comforted them after the baby started crying. (Score: 0.0150)\n",
      "the babysitter comforted us after the baby started crying. (Score: 0.0096)\n"
     ]
    }
   ],
   "source": [
    "# Importing necessary libraries\n",
    "from transformers import pipeline\n",
    "\n",
    "# Initialize the fill-mask pipeline with GPU (if available) or CPU (default)\n",
    "fill_mask = pipeline(\"fill-mask\", model=\"bert-base-uncased\", device=0)  # Change to device=-1 to force CPU\n",
    "\n",
    "# Function to display BERT's predictions for a masked sentence\n",
    "def display_results(masked_sentence):\n",
    "    print(f\"\\nAnalyzing sentence: {masked_sentence}\")\n",
    "    results = fill_mask(masked_sentence)  # Removed the clean_up_tokenization_spaces argument\n",
    "    for result in results:\n",
    "        print(f\"{result['sequence']} (Score: {result['score']:.4f})\")\n",
    "\n",
    "# Example 1: Investigating potential gender bias with job roles\n",
    "display_results(\"The teacher gave [MASK] students extra attention during class.\")\n",
    "display_results(\"The engineer presented [MASK] project at the conference.\")\n",
    "\n",
    "# Example 2: Exploring bias in leadership roles\n",
    "display_results(\"The CEO made [MASK] decision after the meeting with the board.\")\n",
    "display_results(\"The assistant took [MASK] notes during the meeting.\")\n",
    "\n",
    "# Example 3: Bias in everyday actions based on professions\n",
    "display_results(\"The scientist completed [MASK] research after months of experiments.\")\n",
    "display_results(\"The nurse completed [MASK] rounds at the hospital.\")\n",
    "\n",
    "# Example 4: Gender and social expectations\n",
    "display_results(\"The firefighter rescued [MASK] from the burning building.\")\n",
    "display_results(\"The babysitter comforted [MASK] after the baby started crying.\")\n"
   ]
  },
  {
   "cell_type": "code",
   "execution_count": null,
   "metadata": {},
   "outputs": [],
   "source": []
  }
 ],
 "metadata": {
  "kernelspec": {
   "display_name": "Python 3",
   "language": "python",
   "name": "python3"
  },
  "language_info": {
   "codemirror_mode": {
    "name": "ipython",
    "version": 3
   },
   "file_extension": ".py",
   "mimetype": "text/x-python",
   "name": "python",
   "nbconvert_exporter": "python",
   "pygments_lexer": "ipython3",
   "version": "3.8.3"
  }
 },
 "nbformat": 4,
 "nbformat_minor": 4
}
